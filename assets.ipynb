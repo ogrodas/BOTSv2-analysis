{
 "cells": [
  {
   "cell_type": "markdown",
   "metadata": {},
   "source": [
    "# Introduction\n",
    "\n",
    "This notebook analysis the assets in the dataset. The goal is to get an overview of all assets. This will help the analysis of attacks later"
   ]
  },
  {
   "cell_type": "markdown",
   "metadata": {},
   "source": [
    "# Notebook setup"
   ]
  },
  {
   "cell_type": "code",
   "execution_count": 2,
   "metadata": {},
   "outputs": [],
   "source": [
    "import pandas as pd\n",
    "pd.set_option('display.max_rows', 500)\n",
    "pd.set_option('display.max_columns', 500)\n",
    "pd.set_option('display.width', 1000)\n",
    "pd.set_option('display.max_colwidth', 0)\n"
   ]
  },
  {
   "cell_type": "code",
   "execution_count": 3,
   "metadata": {},
   "outputs": [],
   "source": [
    "from splunkconnector import core\n",
    "# from https://github.com/ogrodas/splunk_connector\n",
    "\n",
    "s=core.SplunkConnect(\"https://localhost:8089\")\n",
    "s.auth(\"admin\",\"superadmin\")\n",
    "SPL=s.read_pandas"
   ]
  },
  {
   "cell_type": "markdown",
   "metadata": {},
   "source": [
    "# Domain controllers"
   ]
  },
  {
   "cell_type": "code",
   "execution_count": 10,
   "metadata": {},
   "outputs": [
    {
     "data": {
      "text/html": [
       "<div>\n",
       "<style scoped>\n",
       "    .dataframe tbody tr th:only-of-type {\n",
       "        vertical-align: middle;\n",
       "    }\n",
       "\n",
       "    .dataframe tbody tr th {\n",
       "        vertical-align: top;\n",
       "    }\n",
       "\n",
       "    .dataframe thead th {\n",
       "        text-align: right;\n",
       "    }\n",
       "</style>\n",
       "<table border=\"1\" class=\"dataframe\">\n",
       "  <thead>\n",
       "    <tr style=\"text-align: right;\">\n",
       "      <th></th>\n",
       "      <th>dcName</th>\n",
       "      <th>first</th>\n",
       "      <th>last</th>\n",
       "      <th>count</th>\n",
       "    </tr>\n",
       "  </thead>\n",
       "  <tbody>\n",
       "    <tr>\n",
       "      <th>0</th>\n",
       "      <td>mercury.frothly.local</td>\n",
       "      <td>19/08/17 05:14:43</td>\n",
       "      <td>29/08/17 10:14:58</td>\n",
       "      <td>13</td>\n",
       "    </tr>\n",
       "  </tbody>\n",
       "</table>\n",
       "</div>"
      ],
      "text/plain": [
       "                  dcName              first               last  count\n",
       "0  mercury.frothly.local  19/08/17 05:14:43  29/08/17 10:14:58  13   "
      ]
     },
     "execution_count": 10,
     "metadata": {},
     "output_type": "execute_result"
    }
   ],
   "source": [
    "dc=SPL(\"\"\"\n",
    "index=botsv2 sourcetype=ActiveDirectory \n",
    "| stats earliest(_time) as first,latest(_time) as last,count by dcName\n",
    "| eval first=strftime(first,\"%d/%m/%y %H:%M:%S\"), last=strftime(last,\"%d/%m/%y %H:%M:%S\")\n",
    "\"\"\")\n",
    "dc"
   ]
  },
  {
   "cell_type": "markdown",
   "metadata": {},
   "source": [
    "## Windows assets"
   ]
  },
  {
   "cell_type": "code",
   "execution_count": 17,
   "metadata": {},
   "outputs": [
    {
     "data": {
      "text/html": [
       "<div>\n",
       "<style scoped>\n",
       "    .dataframe tbody tr th:only-of-type {\n",
       "        vertical-align: middle;\n",
       "    }\n",
       "\n",
       "    .dataframe tbody tr th {\n",
       "        vertical-align: top;\n",
       "    }\n",
       "\n",
       "    .dataframe thead th {\n",
       "        text-align: right;\n",
       "    }\n",
       "</style>\n",
       "<table border=\"1\" class=\"dataframe\">\n",
       "  <thead>\n",
       "    <tr style=\"text-align: right;\">\n",
       "      <th></th>\n",
       "      <th>ComputerName</th>\n",
       "      <th>first</th>\n",
       "      <th>last</th>\n",
       "      <th>count</th>\n",
       "    </tr>\n",
       "  </thead>\n",
       "  <tbody>\n",
       "    <tr>\n",
       "      <th>0</th>\n",
       "      <td>mercury.frothly.local</td>\n",
       "      <td>03/08/17 18:02:33</td>\n",
       "      <td>29/08/17 11:11:37</td>\n",
       "      <td>314159</td>\n",
       "    </tr>\n",
       "    <tr>\n",
       "      <th>1</th>\n",
       "      <td>venus.frothly.local</td>\n",
       "      <td>03/08/17 18:02:08</td>\n",
       "      <td>29/08/17 11:10:48</td>\n",
       "      <td>19537</td>\n",
       "    </tr>\n",
       "    <tr>\n",
       "      <th>2</th>\n",
       "      <td>wrk-aturing.frothly.local</td>\n",
       "      <td>03/08/17 18:03:27</td>\n",
       "      <td>29/08/17 11:10:56</td>\n",
       "      <td>13917</td>\n",
       "    </tr>\n",
       "    <tr>\n",
       "      <th>3</th>\n",
       "      <td>wrk-btun.frothly.local</td>\n",
       "      <td>03/08/17 18:02:53</td>\n",
       "      <td>29/08/17 11:11:17</td>\n",
       "      <td>13707</td>\n",
       "    </tr>\n",
       "    <tr>\n",
       "      <th>4</th>\n",
       "      <td>wrk-ghoppy.frothly.local</td>\n",
       "      <td>03/08/17 18:01:26</td>\n",
       "      <td>29/08/17 11:11:10</td>\n",
       "      <td>13331</td>\n",
       "    </tr>\n",
       "    <tr>\n",
       "      <th>5</th>\n",
       "      <td>wrk-fmaltes.frothly.local</td>\n",
       "      <td>03/08/17 18:02:44</td>\n",
       "      <td>29/08/17 11:11:25</td>\n",
       "      <td>13254</td>\n",
       "    </tr>\n",
       "    <tr>\n",
       "      <th>6</th>\n",
       "      <td>wrk-abungst.frothly.local</td>\n",
       "      <td>03/08/17 18:00:07</td>\n",
       "      <td>29/08/17 11:11:28</td>\n",
       "      <td>13250</td>\n",
       "    </tr>\n",
       "    <tr>\n",
       "      <th>7</th>\n",
       "      <td>wrk-bgist.frothly.local</td>\n",
       "      <td>03/08/17 18:02:47</td>\n",
       "      <td>29/08/17 11:11:18</td>\n",
       "      <td>13078</td>\n",
       "    </tr>\n",
       "    <tr>\n",
       "      <th>8</th>\n",
       "      <td>wrk-klagerf.frothly.local</td>\n",
       "      <td>03/08/17 18:02:52</td>\n",
       "      <td>29/08/17 11:11:38</td>\n",
       "      <td>12325</td>\n",
       "    </tr>\n",
       "    <tr>\n",
       "      <th>9</th>\n",
       "      <td>WRK-ATURING</td>\n",
       "      <td>27/08/17 23:25:52</td>\n",
       "      <td>27/08/17 23:25:52</td>\n",
       "      <td>1</td>\n",
       "    </tr>\n",
       "  </tbody>\n",
       "</table>\n",
       "</div>"
      ],
      "text/plain": [
       "                ComputerName              first               last   count\n",
       "0  mercury.frothly.local      03/08/17 18:02:33  29/08/17 11:11:37  314159\n",
       "1  venus.frothly.local        03/08/17 18:02:08  29/08/17 11:10:48  19537 \n",
       "2  wrk-aturing.frothly.local  03/08/17 18:03:27  29/08/17 11:10:56  13917 \n",
       "3  wrk-btun.frothly.local     03/08/17 18:02:53  29/08/17 11:11:17  13707 \n",
       "4  wrk-ghoppy.frothly.local   03/08/17 18:01:26  29/08/17 11:11:10  13331 \n",
       "5  wrk-fmaltes.frothly.local  03/08/17 18:02:44  29/08/17 11:11:25  13254 \n",
       "6  wrk-abungst.frothly.local  03/08/17 18:00:07  29/08/17 11:11:28  13250 \n",
       "7  wrk-bgist.frothly.local    03/08/17 18:02:47  29/08/17 11:11:18  13078 \n",
       "8  wrk-klagerf.frothly.local  03/08/17 18:02:52  29/08/17 11:11:38  12325 \n",
       "9  WRK-ATURING                27/08/17 23:25:52  27/08/17 23:25:52  1     "
      ]
     },
     "execution_count": 17,
     "metadata": {},
     "output_type": "execute_result"
    }
   ],
   "source": [
    "winassets=SPL(\"\"\"\n",
    "index=botsv2 sourcetype=wineventlog \n",
    "| stats earliest(_time) as first,latest(_time) as last,count by ComputerName\n",
    "| eval first=strftime(first,\"%d/%m/%y %H:%M:%S\"), last=strftime(last,\"%d/%m/%y %H:%M:%S\")\n",
    "| sort -count\n",
    "\"\"\")\n",
    "winassets "
   ]
  },
  {
   "cell_type": "code",
   "execution_count": 12,
   "metadata": {},
   "outputs": [
    {
     "data": {
      "text/plain": [
       "10"
      ]
     },
     "execution_count": 12,
     "metadata": {},
     "output_type": "execute_result"
    }
   ],
   "source": [
    "len(winasset)"
   ]
  },
  {
   "cell_type": "markdown",
   "metadata": {},
   "source": [
    "Mapping windows hostnames to IP-adreses"
   ]
  },
  {
   "cell_type": "code",
   "execution_count": 5,
   "metadata": {},
   "outputs": [
    {
     "data": {
      "text/html": [
       "<div>\n",
       "<style scoped>\n",
       "    .dataframe tbody tr th:only-of-type {\n",
       "        vertical-align: middle;\n",
       "    }\n",
       "\n",
       "    .dataframe tbody tr th {\n",
       "        vertical-align: top;\n",
       "    }\n",
       "\n",
       "    .dataframe thead th {\n",
       "        text-align: right;\n",
       "    }\n",
       "</style>\n",
       "<table border=\"1\" class=\"dataframe\">\n",
       "  <thead>\n",
       "    <tr style=\"text-align: right;\">\n",
       "      <th></th>\n",
       "      <th>src_ip</th>\n",
       "      <th>Workstation_Name</th>\n",
       "      <th>first</th>\n",
       "      <th>last</th>\n",
       "      <th>count</th>\n",
       "    </tr>\n",
       "  </thead>\n",
       "  <tbody>\n",
       "    <tr>\n",
       "      <th>0</th>\n",
       "      <td>10.0.4.4</td>\n",
       "      <td>MACLORY-AIR13S</td>\n",
       "      <td>18/08/17 21:27:35</td>\n",
       "      <td>18/08/17 21:27:35</td>\n",
       "      <td>1</td>\n",
       "    </tr>\n",
       "    <tr>\n",
       "      <th>1</th>\n",
       "      <td>10.0.4.1</td>\n",
       "      <td>MERCURY</td>\n",
       "      <td>16/08/17 15:30:47</td>\n",
       "      <td>16/08/17 15:30:47</td>\n",
       "      <td>2</td>\n",
       "    </tr>\n",
       "    <tr>\n",
       "      <th>2</th>\n",
       "      <td>10.0.2.109</td>\n",
       "      <td>WRK-KLAGERF</td>\n",
       "      <td>03/08/17 18:03:02</td>\n",
       "      <td>29/08/17 11:01:56</td>\n",
       "      <td>263</td>\n",
       "    </tr>\n",
       "    <tr>\n",
       "      <th>3</th>\n",
       "      <td>10.0.2.107</td>\n",
       "      <td>WRK-BTUN</td>\n",
       "      <td>24/08/17 03:33:52</td>\n",
       "      <td>26/08/17 08:18:46</td>\n",
       "      <td>50</td>\n",
       "    </tr>\n",
       "    <tr>\n",
       "      <th>4</th>\n",
       "      <td>10.0.2.101</td>\n",
       "      <td>WRK-ATURING</td>\n",
       "      <td>29/08/17 10:21:58</td>\n",
       "      <td>29/08/17 10:21:58</td>\n",
       "      <td>1</td>\n",
       "    </tr>\n",
       "    <tr>\n",
       "      <th>5</th>\n",
       "      <td>10.0.1.222</td>\n",
       "      <td>MERCURY</td>\n",
       "      <td>08/08/17 13:54:42</td>\n",
       "      <td>29/08/17 10:25:34</td>\n",
       "      <td>130</td>\n",
       "    </tr>\n",
       "    <tr>\n",
       "      <th>6</th>\n",
       "      <td>10.0.1.220</td>\n",
       "      <td>MERCURY</td>\n",
       "      <td>03/08/17 18:16:17</td>\n",
       "      <td>29/08/17 10:17:14</td>\n",
       "      <td>109</td>\n",
       "    </tr>\n",
       "    <tr>\n",
       "      <th>7</th>\n",
       "      <td>10.0.1.101</td>\n",
       "      <td>VENUS</td>\n",
       "      <td>24/08/17 04:10:54</td>\n",
       "      <td>24/08/17 04:10:54</td>\n",
       "      <td>1</td>\n",
       "    </tr>\n",
       "    <tr>\n",
       "      <th>8</th>\n",
       "      <td>10.0.1.100</td>\n",
       "      <td>MERCURY</td>\n",
       "      <td>03/08/17 18:02:36</td>\n",
       "      <td>29/08/17 11:11:33</td>\n",
       "      <td>3162</td>\n",
       "    </tr>\n",
       "    <tr>\n",
       "      <th>9</th>\n",
       "      <td>10.0.1.1</td>\n",
       "      <td>GROWLER</td>\n",
       "      <td>03/08/17 18:02:33</td>\n",
       "      <td>29/08/17 11:11:36</td>\n",
       "      <td>68652</td>\n",
       "    </tr>\n",
       "  </tbody>\n",
       "</table>\n",
       "</div>"
      ],
      "text/plain": [
       "       src_ip Workstation_Name              first               last  count\n",
       "0  10.0.4.4    MACLORY-AIR13S   18/08/17 21:27:35  18/08/17 21:27:35  1    \n",
       "1  10.0.4.1    MERCURY          16/08/17 15:30:47  16/08/17 15:30:47  2    \n",
       "2  10.0.2.109  WRK-KLAGERF      03/08/17 18:03:02  29/08/17 11:01:56  263  \n",
       "3  10.0.2.107  WRK-BTUN         24/08/17 03:33:52  26/08/17 08:18:46  50   \n",
       "4  10.0.2.101  WRK-ATURING      29/08/17 10:21:58  29/08/17 10:21:58  1    \n",
       "5  10.0.1.222  MERCURY          08/08/17 13:54:42  29/08/17 10:25:34  130  \n",
       "6  10.0.1.220  MERCURY          03/08/17 18:16:17  29/08/17 10:17:14  109  \n",
       "7  10.0.1.101  VENUS            24/08/17 04:10:54  24/08/17 04:10:54  1    \n",
       "8  10.0.1.100  MERCURY          03/08/17 18:02:36  29/08/17 11:11:33  3162 \n",
       "9  10.0.1.1    GROWLER          03/08/17 18:02:33  29/08/17 11:11:36  68652"
      ]
     },
     "execution_count": 5,
     "metadata": {},
     "output_type": "execute_result"
    }
   ],
   "source": [
    "win_ip_host=SPL(\"\"\"\n",
    "    index=botsv2 sourcetype=wineventlog Workstation_Name=* src_ip=10.0.0.0/8 \n",
    "    | stats earliest(_time) as first ,latest(_time) as last,count by src_ip, Workstation_Name \n",
    "    | eval first=strftime(first,\"%d/%m/%y %H:%M:%S\"), last=strftime(last,\"%d/%m/%y %H:%M:%S\") \n",
    "    | sort -src_ip\n",
    "\"\"\")\n",
    "win_ip_host"
   ]
  },
  {
   "cell_type": "markdown",
   "metadata": {},
   "source": [
    "# Linux assets"
   ]
  },
  {
   "cell_type": "code",
   "execution_count": 16,
   "metadata": {},
   "outputs": [
    {
     "data": {
      "text/html": [
       "<div>\n",
       "<style scoped>\n",
       "    .dataframe tbody tr th:only-of-type {\n",
       "        vertical-align: middle;\n",
       "    }\n",
       "\n",
       "    .dataframe tbody tr th {\n",
       "        vertical-align: top;\n",
       "    }\n",
       "\n",
       "    .dataframe thead th {\n",
       "        text-align: right;\n",
       "    }\n",
       "</style>\n",
       "<table border=\"1\" class=\"dataframe\">\n",
       "  <thead>\n",
       "    <tr style=\"text-align: right;\">\n",
       "      <th></th>\n",
       "      <th>host</th>\n",
       "      <th>first</th>\n",
       "      <th>last</th>\n",
       "      <th>count</th>\n",
       "    </tr>\n",
       "  </thead>\n",
       "  <tbody>\n",
       "    <tr>\n",
       "      <th>0</th>\n",
       "      <td>MACLORY-AIR13</td>\n",
       "      <td>18/08/17 21:32:38</td>\n",
       "      <td>29/08/17 10:34:17</td>\n",
       "      <td>2536</td>\n",
       "    </tr>\n",
       "    <tr>\n",
       "      <th>1</th>\n",
       "      <td>kutekitten</td>\n",
       "      <td>18/08/17 21:25:31</td>\n",
       "      <td>29/08/17 10:30:52</td>\n",
       "      <td>1392</td>\n",
       "    </tr>\n",
       "    <tr>\n",
       "      <th>2</th>\n",
       "      <td>gacrux</td>\n",
       "      <td>08/08/17 13:59:59</td>\n",
       "      <td>29/08/17 10:29:59</td>\n",
       "      <td>703</td>\n",
       "    </tr>\n",
       "    <tr>\n",
       "      <th>3</th>\n",
       "      <td>eridanus</td>\n",
       "      <td>08/08/17 14:00:39</td>\n",
       "      <td>29/08/17 10:30:38</td>\n",
       "      <td>676</td>\n",
       "    </tr>\n",
       "  </tbody>\n",
       "</table>\n",
       "</div>"
      ],
      "text/plain": [
       "            host              first               last  count\n",
       "0  MACLORY-AIR13  18/08/17 21:32:38  29/08/17 10:34:17  2536 \n",
       "1  kutekitten     18/08/17 21:25:31  29/08/17 10:30:52  1392 \n",
       "2  gacrux         08/08/17 13:59:59  29/08/17 10:29:59  703  \n",
       "3  eridanus       08/08/17 14:00:39  29/08/17 10:30:38  676  "
      ]
     },
     "execution_count": 16,
     "metadata": {},
     "output_type": "execute_result"
    }
   ],
   "source": [
    "linuxassets=SPL(\"\"\"\n",
    "index=botsv2 sourcetype=Unix*| stats earliest(_time) as first,latest(_time) as last,count by host\n",
    "| eval first=strftime(first,\"%d/%m/%y %H:%M:%S\"), last=strftime(last,\"%d/%m/%y %H:%M:%S\")\n",
    "| sort -count\n",
    "\"\"\")\n",
    "linuxassets"
   ]
  },
  {
   "cell_type": "code",
   "execution_count": 18,
   "metadata": {},
   "outputs": [
    {
     "data": {
      "text/plain": [
       "4"
      ]
     },
     "execution_count": 18,
     "metadata": {},
     "output_type": "execute_result"
    }
   ],
   "source": [
    "len(linuxassets)"
   ]
  },
  {
   "cell_type": "markdown",
   "metadata": {},
   "source": [
    "##  src_ip overview"
   ]
  },
  {
   "cell_type": "code",
   "execution_count": 20,
   "metadata": {},
   "outputs": [],
   "source": [
    "srcip=SPL(\"\"\"\n",
    "index=botsv2 | stats count by src_ip | sort -count\n",
    "\"\"\")"
   ]
  },
  {
   "cell_type": "code",
   "execution_count": 21,
   "metadata": {},
   "outputs": [
    {
     "data": {
      "text/html": [
       "<div>\n",
       "<style scoped>\n",
       "    .dataframe tbody tr th:only-of-type {\n",
       "        vertical-align: middle;\n",
       "    }\n",
       "\n",
       "    .dataframe tbody tr th {\n",
       "        vertical-align: top;\n",
       "    }\n",
       "\n",
       "    .dataframe thead th {\n",
       "        text-align: right;\n",
       "    }\n",
       "</style>\n",
       "<table border=\"1\" class=\"dataframe\">\n",
       "  <thead>\n",
       "    <tr style=\"text-align: right;\">\n",
       "      <th></th>\n",
       "      <th>src_ip</th>\n",
       "      <th>count</th>\n",
       "    </tr>\n",
       "  </thead>\n",
       "  <tbody>\n",
       "    <tr>\n",
       "      <th>0</th>\n",
       "      <td>10.0.1.1</td>\n",
       "      <td>387840</td>\n",
       "    </tr>\n",
       "    <tr>\n",
       "      <th>1</th>\n",
       "      <td>10.0.1.100</td>\n",
       "      <td>312601</td>\n",
       "    </tr>\n",
       "    <tr>\n",
       "      <th>2</th>\n",
       "      <td>10.0.2.109</td>\n",
       "      <td>184068</td>\n",
       "    </tr>\n",
       "    <tr>\n",
       "      <th>3</th>\n",
       "      <td>10.0.2.107</td>\n",
       "      <td>165859</td>\n",
       "    </tr>\n",
       "    <tr>\n",
       "      <th>4</th>\n",
       "      <td>172.31.10.10</td>\n",
       "      <td>142242</td>\n",
       "    </tr>\n",
       "    <tr>\n",
       "      <th>5</th>\n",
       "      <td>10.0.4.4</td>\n",
       "      <td>133092</td>\n",
       "    </tr>\n",
       "    <tr>\n",
       "      <th>6</th>\n",
       "      <td>111.249.38.34</td>\n",
       "      <td>104984</td>\n",
       "    </tr>\n",
       "    <tr>\n",
       "      <th>7</th>\n",
       "      <td>118.166.53.142</td>\n",
       "      <td>84086</td>\n",
       "    </tr>\n",
       "    <tr>\n",
       "      <th>8</th>\n",
       "      <td>10.0.1.200</td>\n",
       "      <td>82906</td>\n",
       "    </tr>\n",
       "    <tr>\n",
       "      <th>9</th>\n",
       "      <td>52.40.10.231</td>\n",
       "      <td>80649</td>\n",
       "    </tr>\n",
       "  </tbody>\n",
       "</table>\n",
       "</div>"
      ],
      "text/plain": [
       "           src_ip   count\n",
       "0  10.0.1.1        387840\n",
       "1  10.0.1.100      312601\n",
       "2  10.0.2.109      184068\n",
       "3  10.0.2.107      165859\n",
       "4  172.31.10.10    142242\n",
       "5  10.0.4.4        133092\n",
       "6  111.249.38.34   104984\n",
       "7  118.166.53.142  84086 \n",
       "8  10.0.1.200      82906 \n",
       "9  52.40.10.231    80649 "
      ]
     },
     "execution_count": 21,
     "metadata": {},
     "output_type": "execute_result"
    }
   ],
   "source": [
    "srcip[:10]"
   ]
  },
  {
   "cell_type": "code",
   "execution_count": 22,
   "metadata": {},
   "outputs": [
    {
     "data": {
      "text/plain": [
       "1878"
      ]
     },
     "execution_count": 22,
     "metadata": {},
     "output_type": "execute_result"
    }
   ],
   "source": [
    "len(srcip)"
   ]
  },
  {
   "cell_type": "markdown",
   "metadata": {},
   "source": [
    "## DNS-IP mapping\n",
    "\n",
    "\n",
    "todo:\n",
    "index=botsv2  dns | spath \"message_type{}\" | search \"message_type{}\"=RESPONSE| spath \"host_addr{}\" | search \"host_addr{}\"=10.0.0.0/8 | table host_addr{},name{}"
   ]
  },
  {
   "cell_type": "code",
   "execution_count": null,
   "metadata": {},
   "outputs": [],
   "source": []
  }
 ],
 "metadata": {
  "kernelspec": {
   "display_name": "Python 3",
   "language": "python",
   "name": "python3"
  },
  "language_info": {
   "codemirror_mode": {
    "name": "ipython",
    "version": 3
   },
   "file_extension": ".py",
   "mimetype": "text/x-python",
   "name": "python",
   "nbconvert_exporter": "python",
   "pygments_lexer": "ipython3",
   "version": "3.7.3"
  }
 },
 "nbformat": 4,
 "nbformat_minor": 2
}
