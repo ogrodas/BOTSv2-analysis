{
 "cells": [
  {
   "cell_type": "markdown",
   "metadata": {},
   "source": [
    "# Splunk setup using docker\n",
    "\n",
    "This notebook contains scripts for setting up a splunk docker container with security apps for analysing the botsv2 dataset"
   ]
  },
  {
   "cell_type": "code",
   "execution_count": 2,
   "metadata": {},
   "outputs": [
    {
     "name": "stdout",
     "output_type": "stream",
     "text": [
      "/home/ole/splunk\n"
     ]
    }
   ],
   "source": [
    "# The rest of the script will assume that the currect working direcotory is the same\n",
    "!mkdir -p ~/splunk\n",
    "%cd ~/splunk"
   ]
  },
  {
   "cell_type": "markdown",
   "metadata": {},
   "source": [
    "## Basic container setup"
   ]
  },
  {
   "cell_type": "code",
   "execution_count": 69,
   "metadata": {},
   "outputs": [
    {
     "name": "stdout",
     "output_type": "stream",
     "text": [
      "latest: Pulling from splunk/splunk\n",
      "Digest: sha256:8b62363063d91138f8eceaaaec66c024ade9da0baa851fff679e25849585cdbb\n",
      "Status: Image is up to date for splunk/splunk:latest\n",
      "Error response from daemon: network with name soc1 already exists\n"
     ]
    }
   ],
   "source": [
    "!sudo docker pull splunk/splunk:latest\n",
    "!sudo docker network create --driver bridge --attachable soc1"
   ]
  },
  {
   "cell_type": "markdown",
   "metadata": {},
   "source": [
    "## Copy default apps from container to host"
   ]
  },
  {
   "cell_type": "markdown",
   "metadata": {},
   "source": [
    "Splunk ships with a set of apps inside the container. In addition to the defaults apps we will be downloading apps from [splunkbase](https://splunkbase.splunk.com/). \n",
    "\n",
    "In this docker setup we will put all apps in a folder on the host and access them with a shared folder from the container. The first step  towards this is starting the container and copying the default apps to the host and stopping the container.\n"
   ]
  },
  {
   "cell_type": "code",
   "execution_count": 70,
   "metadata": {},
   "outputs": [
    {
     "name": "stdout",
     "output_type": "stream",
     "text": [
      "\n",
      "PLAY [Run default Splunk provisioning] *****************************************\n",
      "Wednesday 03 July 2019  12:19:41 +0000 (0:00:00.021)       0:00:00.021 ******** \n",
      "\n",
      "TASK [Gathering Facts] *********************************************************\n",
      "\u001b[0;32mok: [localhost]\u001b[0m\n",
      "Wednesday 03 July 2019  12:19:43 +0000 (0:00:01.347)       0:00:01.369 ******** \n",
      "Wednesday 03 July 2019  12:19:43 +0000 (0:00:00.038)       0:00:01.408 ******** \n",
      "Wednesday 03 July 2019  12:19:43 +0000 (0:00:00.036)       0:00:01.444 ******** \n",
      "Wednesday 03 July 2019  12:19:43 +0000 (0:00:00.109)       0:00:01.554 ******** \n",
      "\u001b[0;36mincluded: /opt/ansible/roles/splunk_common/tasks/get_facts.yml for localhost\u001b[0m\n",
      "Wednesday 03 July 2019  12:19:43 +0000 (0:00:00.074)       0:00:01.628 ******** \n",
      "\n",
      "TASK [splunk_common : Set privilege escalation user] ***************************\n",
      "\u001b[0;32mok: [localhost]\u001b[0m\n",
      "Wednesday 03 July 2019  12:19:43 +0000 (0:00:00.037)       0:00:01.666 ******** \n",
      "\n",
      "TASK [splunk_common : Check for existing installation] *************************\n",
      "\u001b[0;32mok: [localhost]\u001b[0m\n",
      "Wednesday 03 July 2019  12:19:43 +0000 (0:00:00.407)       0:00:02.074 ******** \n",
      "\n",
      "TASK [splunk_common : Set splunk install fact] *********************************\n",
      "\u001b[0;32mok: [localhost]\u001b[0m\n",
      "Wednesday 03 July 2019  12:19:44 +0000 (0:00:00.037)       0:00:02.111 ******** \n",
      "\n",
      "TASK [splunk_common : Check for existing splunk secret] ************************\n",
      "\u001b[0;32mok: [localhost]\u001b[0m\n",
      "Wednesday 03 July 2019  12:19:44 +0000 (0:00:00.092)       0:00:02.204 ******** \n",
      "\n",
      "TASK [splunk_common : Set first run fact] **************************************\n",
      "\u001b[0;32mok: [localhost]\u001b[0m\n",
      "Wednesday 03 July 2019  12:19:44 +0000 (0:00:00.037)       0:00:02.241 ******** \n",
      "\n",
      "TASK [splunk_common : Check if we are in a docker] *****************************\n",
      "\u001b[0;32mok: [localhost]\u001b[0m\n",
      "Wednesday 03 July 2019  12:19:44 +0000 (0:00:00.303)       0:00:02.545 ******** \n",
      "\n",
      "TASK [splunk_common : Set docker fact] *****************************************\n",
      "\u001b[0;32mok: [localhost]\u001b[0m\n",
      "Wednesday 03 July 2019  12:19:44 +0000 (0:00:00.037)       0:00:02.582 ******** \n",
      "Wednesday 03 July 2019  12:19:44 +0000 (0:00:00.035)       0:00:02.618 ******** \n",
      "\n",
      "TASK [splunk_common : Find manifests] ******************************************\n",
      "\u001b[0;32mok: [localhost]\u001b[0m\n",
      "Wednesday 03 July 2019  12:19:44 +0000 (0:00:00.210)       0:00:02.828 ******** \n",
      "\n",
      "TASK [splunk_common : Set current version fact] ********************************\n",
      "\u001b[0;32mok: [localhost]\u001b[0m\n",
      "Wednesday 03 July 2019  12:19:44 +0000 (0:00:00.039)       0:00:02.867 ******** \n",
      "\n",
      "TASK [splunk_common : Setting upgrade fact] ************************************\n",
      "\u001b[0;32mok: [localhost]\u001b[0m\n",
      "Wednesday 03 July 2019  12:19:44 +0000 (0:00:00.039)       0:00:02.906 ******** \n",
      "\u001b[0;36mincluded: /opt/ansible/roles/splunk_common/tasks/change_splunk_directory_owner.yml for localhost\u001b[0m\n",
      "Wednesday 03 July 2019  12:19:44 +0000 (0:00:00.077)       0:00:02.984 ******** \n",
      "\n",
      "TASK [splunk_common : Update Splunk directory owner] ***************************\n",
      "\u001b[0;33mchanged: [localhost]\u001b[0m\n",
      "Wednesday 03 July 2019  12:19:45 +0000 (0:00:00.699)       0:00:03.684 ******** \n",
      "\u001b[0;36mincluded: /opt/ansible/roles/splunk_common/tasks/update_etc.yml for localhost\u001b[0m\n",
      "Wednesday 03 July 2019  12:19:45 +0000 (0:00:00.075)       0:00:03.760 ******** \n",
      "\n",
      "TASK [splunk_common : Check if /sbin/updateetc.sh exists] **********************\n",
      "\u001b[0;32mok: [localhost]\u001b[0m\n",
      "Wednesday 03 July 2019  12:19:45 +0000 (0:00:00.282)       0:00:04.042 ******** \n",
      "\n",
      "TASK [splunk_common : Update /opt/splunk/etc] **********************************\n",
      "\u001b[0;33mchanged: [localhost]\u001b[0m\n",
      "Wednesday 03 July 2019  12:19:46 +0000 (0:00:00.494)       0:00:04.536 ******** \n",
      "Wednesday 03 July 2019  12:19:46 +0000 (0:00:00.036)       0:00:04.573 ******** \n",
      "Wednesday 03 July 2019  12:19:46 +0000 (0:00:00.036)       0:00:04.609 ******** \n",
      "Wednesday 03 July 2019  12:19:46 +0000 (0:00:00.038)       0:00:04.648 ******** \n",
      "\u001b[0;36mincluded: /opt/ansible/roles/splunk_common/tasks/remove_first_login.yml for localhost\u001b[0m\n",
      "Wednesday 03 July 2019  12:19:46 +0000 (0:00:00.075)       0:00:04.723 ******** \n",
      "\n",
      "TASK [splunk_common : Create .ui_login] ****************************************\n",
      "\u001b[0;33mchanged: [localhost]\u001b[0m\n",
      "Wednesday 03 July 2019  12:19:46 +0000 (0:00:00.288)       0:00:05.011 ******** \n",
      "Wednesday 03 July 2019  12:19:46 +0000 (0:00:00.035)       0:00:05.047 ******** \n",
      "\u001b[0;36mincluded: /opt/ansible/roles/splunk_common/tasks/set_splunk_secret.yml for localhost\u001b[0m\n",
      "Wednesday 03 July 2019  12:19:47 +0000 (0:00:00.077)       0:00:05.124 ******** \n",
      "Wednesday 03 July 2019  12:19:47 +0000 (0:00:00.037)       0:00:05.162 ******** \n",
      "\u001b[0;36mincluded: /opt/ansible/roles/splunk_common/tasks/set_user_seed.yml for localhost\u001b[0m\n",
      "Wednesday 03 July 2019  12:19:47 +0000 (0:00:00.080)       0:00:05.243 ******** \n",
      "\n",
      "TASK [splunk_common : Hash the password] ***************************************\n",
      "\u001b[0;33mchanged: [localhost]\u001b[0m\n",
      "Wednesday 03 July 2019  12:19:47 +0000 (0:00:00.327)       0:00:05.570 ******** \n",
      "\n",
      "TASK [splunk_common : Generate user-seed.conf] *********************************\n",
      "\u001b[0;33mchanged: [localhost] => (item=USERNAME)\u001b[0m\n",
      "\u001b[0;33mchanged: [localhost] => (item=HASHED_PASSWORD)\u001b[0m\n",
      "Wednesday 03 July 2019  12:19:47 +0000 (0:00:00.274)       0:00:05.844 ******** \n",
      "\u001b[0;36mincluded: /opt/ansible/roles/splunk_common/tasks/pre_splunk_start_commands.yml for localhost\u001b[0m\n",
      "Wednesday 03 July 2019  12:19:47 +0000 (0:00:00.111)       0:00:05.955 ******** \n",
      "Wednesday 03 July 2019  12:19:47 +0000 (0:00:00.037)       0:00:05.992 ******** \n",
      "\u001b[0;36mincluded: /opt/ansible/roles/splunk_common/tasks/enable_s2s_port.yml for localhost\u001b[0m\n",
      "Wednesday 03 July 2019  12:19:48 +0000 (0:00:00.084)       0:00:06.077 ******** \n",
      "\n",
      "TASK [splunk_common : Enable the Splunk-to-Splunk port] ************************\n",
      "\u001b[0;33mchanged: [localhost]\u001b[0m\n",
      "Wednesday 03 July 2019  12:19:52 +0000 (0:00:04.988)       0:00:11.065 ******** \n",
      "Wednesday 03 July 2019  12:19:53 +0000 (0:00:00.037)       0:00:11.103 ******** \n",
      "Wednesday 03 July 2019  12:19:53 +0000 (0:00:00.037)       0:00:11.141 ******** \n",
      "Wednesday 03 July 2019  12:19:53 +0000 (0:00:00.041)       0:00:11.182 ******** \n",
      "Wednesday 03 July 2019  12:19:53 +0000 (0:00:00.035)       0:00:11.218 ******** \n",
      "\u001b[0;36mincluded: /opt/ansible/roles/splunk_common/tasks/start_splunk.yml for localhost\u001b[0m\n",
      "Wednesday 03 July 2019  12:19:53 +0000 (0:00:00.080)       0:00:11.299 ******** \n",
      "\n",
      "TASK [splunk_common : Start Splunk via cli] ************************************\n",
      "\u001b[0;33mchanged: [localhost]\u001b[0m\n",
      "Wednesday 03 July 2019  12:19:57 +0000 (0:00:04.024)       0:00:15.323 ******** \n",
      "Wednesday 03 July 2019  12:19:57 +0000 (0:00:00.038)       0:00:15.361 ******** \n",
      "Wednesday 03 July 2019  12:19:57 +0000 (0:00:00.036)       0:00:15.397 ******** \n",
      "\n",
      "TASK [splunk_common : Wait for port 8089 to become open] ***********************\n",
      "\u001b[0;32mok: [localhost]\u001b[0m\n",
      "Wednesday 03 July 2019  12:19:57 +0000 (0:00:00.201)       0:00:15.599 ******** \n",
      "\u001b[0;36mincluded: /opt/ansible/roles/splunk_common/tasks/set_certificate_prefix.yml for localhost\u001b[0m\n",
      "Wednesday 03 July 2019  12:19:57 +0000 (0:00:00.082)       0:00:15.682 ******** \n",
      "\n",
      "TASK [splunk_common : Test basic https endpoint] *******************************\n",
      "\u001b[0;32mok: [localhost]\u001b[0m\n",
      "Wednesday 03 July 2019  12:19:57 +0000 (0:00:00.306)       0:00:15.988 ******** \n",
      "\n",
      "TASK [splunk_common : Set url prefix for future REST calls] ********************\n",
      "\u001b[0;32mok: [localhost]\u001b[0m\n",
      "Wednesday 03 July 2019  12:19:57 +0000 (0:00:00.039)       0:00:16.027 ******** \n",
      "Wednesday 03 July 2019  12:19:57 +0000 (0:00:00.039)       0:00:16.066 ******** \n",
      "\u001b[0;36mincluded: /opt/ansible/roles/splunk_common/tasks/clean_user_seed.yml for localhost\u001b[0m\n",
      "Wednesday 03 July 2019  12:19:58 +0000 (0:00:00.086)       0:00:16.153 ******** \n",
      "\n",
      "TASK [splunk_common : Remove user-seed.conf] ***********************************\n",
      "\u001b[0;32mok: [localhost]\u001b[0m\n",
      "Wednesday 03 July 2019  12:19:58 +0000 (0:00:00.098)       0:00:16.252 ******** \n",
      "\u001b[0;36mincluded: /opt/ansible/roles/splunk_common/tasks/add_splunk_license.yml for localhost\u001b[0m\n",
      "Wednesday 03 July 2019  12:19:58 +0000 (0:00:00.093)       0:00:16.345 ******** \n",
      "Wednesday 03 July 2019  12:19:58 +0000 (0:00:00.039)       0:00:16.385 ******** \n",
      "\n",
      "TASK [splunk_common : Apply Splunk license] ************************************\n",
      "\u001b[0;31mfatal: [localhost]: FAILED! => {\"msg\": \"No file was found when using first_found. Use the 'skip: true' option to allow this task to be skipped if no files are found\"}\u001b[0m\n",
      "\u001b[0;36m...ignoring\u001b[0m\n"
     ]
    },
    {
     "name": "stdout",
     "output_type": "stream",
     "text": [
      "Wednesday 03 July 2019  12:19:58 +0000 (0:00:00.036)       0:00:16.422 ******** \n",
      "Wednesday 03 July 2019  12:19:58 +0000 (0:00:00.034)       0:00:16.456 ******** \n",
      "Wednesday 03 July 2019  12:19:58 +0000 (0:00:00.039)       0:00:16.496 ******** \n",
      "Wednesday 03 July 2019  12:19:58 +0000 (0:00:00.041)       0:00:16.538 ******** \n",
      "Wednesday 03 July 2019  12:19:58 +0000 (0:00:00.037)       0:00:16.575 ******** \n",
      "Wednesday 03 July 2019  12:19:58 +0000 (0:00:00.040)       0:00:16.615 ******** \n",
      "Wednesday 03 July 2019  12:19:58 +0000 (0:00:00.036)       0:00:16.652 ******** \n",
      "\u001b[0;36mincluded: /opt/ansible/roles/splunk_standalone/tasks/../../splunk_common/tasks/check_for_required_restarts.yml for localhost\u001b[0m\n",
      "Wednesday 03 July 2019  12:19:58 +0000 (0:00:00.064)       0:00:16.717 ******** \n",
      "\n",
      "TASK [splunk_standalone : Check for required restarts] *************************\n",
      "\u001b[0;32mok: [localhost]\u001b[0m\n",
      "Wednesday 03 July 2019  12:19:58 +0000 (0:00:00.157)       0:00:16.874 ******** \n",
      "\n",
      "PLAY RECAP *********************************************************************\n",
      "\u001b[0;33mlocalhost\u001b[0m                  : \u001b[0;32mok=38  \u001b[0m \u001b[0;33mchanged=7   \u001b[0m unreachable=0    failed=0    \u001b[0;36mskipped=24  \u001b[0m rescued=0    \u001b[1;35mignored=1   \u001b[0m\n",
      "\n",
      "Wednesday 03 July 2019  12:19:58 +0000 (0:00:00.013)       0:00:16.888 ******** \n",
      "=============================================================================== \n",
      "splunk_common : Enable the Splunk-to-Splunk port ------------------------ 4.99s\n",
      "splunk_common : Start Splunk via cli ------------------------------------ 4.02s\n",
      "Gathering Facts --------------------------------------------------------- 1.35s\n",
      "splunk_common : Update Splunk directory owner --------------------------- 0.70s\n",
      "splunk_common : Update /opt/splunk/etc ---------------------------------- 0.49s\n",
      "splunk_common : Check for existing installation ------------------------- 0.41s\n",
      "splunk_common : Hash the password --------------------------------------- 0.33s\n",
      "splunk_common : Test basic https endpoint ------------------------------- 0.31s\n",
      "splunk_common : Check if we are in a docker ----------------------------- 0.30s\n",
      "splunk_common : Create .ui_login ---------------------------------------- 0.29s\n",
      "splunk_common : Check if /sbin/updateetc.sh exists ---------------------- 0.28s\n",
      "splunk_common : Generate user-seed.conf --------------------------------- 0.27s\n",
      "splunk_common : Find manifests ------------------------------------------ 0.21s\n",
      "splunk_common : Wait for port 8089 to become open ----------------------- 0.20s\n",
      "splunk_standalone : Check for required restarts ------------------------- 0.16s\n",
      "splunk_common : include_tasks ------------------------------------------- 0.11s\n",
      "Provision role ---------------------------------------------------------- 0.11s\n",
      "splunk_common : Remove user-seed.conf ----------------------------------- 0.10s\n",
      "splunk_common : Check for existing splunk secret ------------------------ 0.09s\n",
      "splunk_common : include_tasks ------------------------------------------- 0.09s\n",
      "===============================================================================\n",
      "\n",
      "Ansible playbook complete, will begin streaming var/log/splunk/splunkd_stderr.log\n",
      "\n",
      "^C\n"
     ]
    }
   ],
   "source": [
    "!sudo docker run --network soc1 --name soc1 --hostname soc1 -p 8000:8000 -p 8089:8089 -p 8070:8070 -e \"SPLUNK_PASSWORD=changeme\" -e \"SPLUNK_START_ARGS=--accept-license\" -t splunk/splunk:latest"
   ]
  },
  {
   "cell_type": "code",
   "execution_count": 72,
   "metadata": {},
   "outputs": [
    {
     "name": "stdout",
     "output_type": "stream",
     "text": [
      "CONTAINER ID        IMAGE                  COMMAND                  CREATED             STATUS                             PORTS                                                                                                                      NAMES\r\n",
      "37a1b5ba9ce3        splunk/splunk:latest   \"/sbin/entrypoint.sh…\"   27 seconds ago      Up 25 seconds (health: starting)   0.0.0.0:8000->8000/tcp, 8065/tcp, 0.0.0.0:8070->8070/tcp, 8088/tcp, 8191/tcp, 9887/tcp, 0.0.0.0:8089->8089/tcp, 9997/tcp   soc1\r\n"
     ]
    }
   ],
   "source": [
    "!sudo docker ps"
   ]
  },
  {
   "cell_type": "code",
   "execution_count": 73,
   "metadata": {},
   "outputs": [
    {
     "data": {
      "text/plain": [
       "'37a1b5ba9ce3'"
      ]
     },
     "execution_count": 73,
     "metadata": {},
     "output_type": "execute_result"
    }
   ],
   "source": [
    "dockerid=!sudo docker ps -aqf \"name=soc1\"\n",
    "dockerid=dockerid[0]\n",
    "dockerid"
   ]
  },
  {
   "cell_type": "code",
   "execution_count": 74,
   "metadata": {},
   "outputs": [],
   "source": [
    "!mkdir apps_splunk_default\n",
    "!sudo docker cp $dockerid:/opt/splunk/etc/apps/. apps_splunk_default/"
   ]
  },
  {
   "cell_type": "code",
   "execution_count": 75,
   "metadata": {},
   "outputs": [
    {
     "name": "stdout",
     "output_type": "stream",
     "text": [
      "37a1b5ba9ce3\r\n"
     ]
    }
   ],
   "source": [
    "!sudo docker stop $dockerid"
   ]
  },
  {
   "cell_type": "code",
   "execution_count": 76,
   "metadata": {},
   "outputs": [
    {
     "name": "stdout",
     "output_type": "stream",
     "text": [
      "37a1b5ba9ce3\r\n"
     ]
    }
   ],
   "source": [
    "!sudo docker rm $dockerid"
   ]
  },
  {
   "cell_type": "markdown",
   "metadata": {},
   "source": [
    "## Download apps from splunkbase"
   ]
  },
  {
   "cell_type": "markdown",
   "metadata": {},
   "source": [
    "Most of the security apps for splunk is located at splunkbase. Splunkbase seems to be intended to be used only manually. This is a bit annoying when we need a lot of apps\n",
    "for a docker cotainer that we would like to be able to automatically rebuild. \n",
    "\n",
    "The main problem is that Splunkbase uses reCAPTCHA for logins. The best way around this problem is to login with a browser and export the cookies. Use for example https://addons.mozilla.org/en-US/firefox/addon/export-cookies-txt/\n",
    "\n",
    "Having the cookies available it is possible to use curl to download the apps. For example:\n",
    "```\n",
    "curl -L --cookie cookies.txt https://splunkbase.splunk.com/app/3749/release/2.0.0/download/ -o 3749.tgz\n",
    "```\n",
    "\n",
    "Using curl it is difficult to automatically find the latest version of an app. It is also difficult to do proper error checking. I therefor ended up using the python script below for downloading splunk apps\n",
    "\n",
    "Use these scripts at your own risk. "
   ]
  },
  {
   "cell_type": "code",
   "execution_count": 3,
   "metadata": {},
   "outputs": [
    {
     "name": "stdout",
     "output_type": "stream",
     "text": [
      "/home/ole/splunk/download\n"
     ]
    }
   ],
   "source": [
    "!mkdir -p ~/splunk/download\n",
    "%cd ~/splunk/download"
   ]
  },
  {
   "cell_type": "code",
   "execution_count": 78,
   "metadata": {},
   "outputs": [],
   "source": [
    "##Function for downloading splunkapps\n",
    "##\n",
    "## You need to login with a browser and export the cookies.\n",
    "## default the script expects the cookies.txt to be located in the current working directory\n",
    "## Use for example https://addons.mozilla.org/en-US/firefox/addon/export-cookies-txt/\n",
    "##\n",
    "\n",
    "import os\n",
    "import re\n",
    "import requests\n",
    "import http.cookiejar\n",
    "from collections import namedtuple\n",
    "from tqdm import tqdm\n",
    "import pickle\n",
    "\n",
    "from IPython.core.debugger import set_trace\n",
    "\n",
    "class LoginError(Exception): pass\n",
    "class NoFileToDownload(Exception): pass\n",
    "SplunkApp=namedtuple(\"SplunkApp\",[\"id\",\"name\",\"filename\",\"baseurl\",\"downloadurl\",\"version\"])\n",
    "\n",
    "def download_splunk_app(appid,cookiefile=\"cookies.txt\"):\n",
    "    \n",
    "    #Load cookies from browser, site uses recaptcha and we can't automatically login\n",
    "    cookies=http.cookiejar.MozillaCookieJar(cookiefile)\n",
    "    cookies.load()\n",
    "    \n",
    "    #Download html\n",
    "    baseurl=f\"https://splunkbase.splunk.com/app/{appid}/\"\n",
    "    r = requests.get(baseurl, cookies=cookies)\n",
    "    \n",
    "    #Check if login success\n",
    "    if \"LOGIN TO DOWNLOAD\" in r.text:\n",
    "        raise LoginError(\"Old or missing cookies?\")\n",
    "    \n",
    "    #Extract data from html\n",
    "    version=re.search(r'sb-target=\"(.*?)\"',r.text)[1]\n",
    "    name=re.search(r'<title>([^|]*)',r.text)[1]\n",
    "    downloadurl=f\"{baseurl}release/{version}/download/\"\n",
    "    \n",
    "    #Download headers from real download url\n",
    "    header = requests.head(downloadurl, allow_redirects=True,cookies=cookies)\n",
    "    print(header.headers.get('content-type'))\n",
    "    \n",
    "    #Check if download is a real tgz\n",
    "    if header.headers.get('content-type') != 'application/x-tar':\n",
    "        raise NoFileToDownload(f\"Appid:{appid} Name:{name}  No file to download\")\n",
    "    \n",
    "    #Get filename form header\n",
    "    disposition=header.headers.get(\"content-disposition\")\n",
    "    filename=re.search('filename=\"(.*)\"',disposition)[1]\n",
    "    \n",
    "    #Download if files does not already exists\n",
    "    if os.path.isfile(filename):\n",
    "        print (f\"{filename} File already exist. Skipping\")\n",
    "    else:\n",
    "        r = requests.get(downloadurl, cookies=cookies)\n",
    "        open(filename, 'wb').write(r.content)\n",
    "    return SplunkApp(appid,name,filename,baseurl,downloadurl,version)\n",
    "\n",
    "def download_splunk_apps(appids,cookiefile=\"cookies.txt\"):\n",
    "    apps=[]\n",
    "    for appid in tqdm(appids):\n",
    "        try:\n",
    "            app=download_splunk_app(appid)\n",
    "            apps.append(app)\n",
    "        except LoginError as err:\n",
    "            print (err)\n",
    "            break\n",
    "        except NoFileToDownload as err:\n",
    "            print (err)\n",
    "            continue\n",
    "    return apps\n",
    "#app = download_splunk_app(\"4305\")\n",
    "    "
   ]
  },
  {
   "cell_type": "code",
   "execution_count": 79,
   "metadata": {},
   "outputs": [
    {
     "name": "stderr",
     "output_type": "stream",
     "text": [
      "  4%|▎         | 1/27 [00:04<02:07,  4.92s/it]"
     ]
    },
    {
     "name": "stdout",
     "output_type": "stream",
     "text": [
      "application/x-tar\n",
      "sa-investigator-for-enterprise-security_200.tgz File already exist. Skipping\n"
     ]
    },
    {
     "name": "stderr",
     "output_type": "stream",
     "text": [
      "\r",
      "  7%|▋         | 2/27 [00:08<01:49,  4.38s/it]"
     ]
    },
    {
     "name": "stdout",
     "output_type": "stream",
     "text": [
      "application/x-tar\n",
      "base64_11.tgz File already exist. Skipping\n"
     ]
    },
    {
     "name": "stderr",
     "output_type": "stream",
     "text": [
      "\r",
      " 11%|█         | 3/27 [00:10<01:32,  3.84s/it]"
     ]
    },
    {
     "name": "stdout",
     "output_type": "stream",
     "text": [
      "application/x-tar\n",
      "url-toolbox_16.tgz File already exist. Skipping\n"
     ]
    },
    {
     "name": "stderr",
     "output_type": "stream",
     "text": [
      "\r",
      " 15%|█▍        | 4/27 [00:15<01:33,  4.05s/it]"
     ]
    },
    {
     "name": "stdout",
     "output_type": "stream",
     "text": [
      "application/x-tar\n",
      "splunk-security-essentials_242.tgz File already exist. Skipping\n"
     ]
    },
    {
     "name": "stderr",
     "output_type": "stream",
     "text": [
      "\r",
      " 19%|█▊        | 5/27 [00:17<01:17,  3.51s/it]"
     ]
    },
    {
     "name": "stdout",
     "output_type": "stream",
     "text": [
      "application/x-tar\n",
      "jellyfisher_010.tgz File already exist. Skipping\n"
     ]
    },
    {
     "name": "stderr",
     "output_type": "stream",
     "text": [
      "\r",
      " 22%|██▏       | 6/27 [00:20<01:09,  3.32s/it]"
     ]
    },
    {
     "name": "stdout",
     "output_type": "stream",
     "text": [
      "application/x-tar\n",
      "splunk-common-information-model-cim_4130.tgz File already exist. Skipping\n"
     ]
    },
    {
     "name": "stderr",
     "output_type": "stream",
     "text": [
      "\r",
      " 26%|██▌       | 7/27 [00:22<00:59,  2.97s/it]"
     ]
    },
    {
     "name": "stdout",
     "output_type": "stream",
     "text": [
      "application/x-tar\n",
      "splunk-add-on-for-apache-web-server_100.tgz File already exist. Skipping\n"
     ]
    },
    {
     "name": "stderr",
     "output_type": "stream",
     "text": [
      "\r",
      " 30%|██▉       | 8/27 [00:25<00:55,  2.94s/it]"
     ]
    },
    {
     "name": "stdout",
     "output_type": "stream",
     "text": [
      "application/x-tar\n",
      "palo-alto-networks-add-on-for-splunk_611.tgz File already exist. Skipping\n"
     ]
    },
    {
     "name": "stderr",
     "output_type": "stream",
     "text": [
      "\r",
      " 33%|███▎      | 9/27 [00:27<00:49,  2.77s/it]"
     ]
    },
    {
     "name": "stdout",
     "output_type": "stream",
     "text": [
      "application/x-tar\n",
      "splunk-add-on-for-symantec-endpoint-protection_230.tgz File already exist. Skipping\n"
     ]
    },
    {
     "name": "stderr",
     "output_type": "stream",
     "text": [
      "\r",
      " 37%|███▋      | 10/27 [00:29<00:44,  2.60s/it]"
     ]
    },
    {
     "name": "stdout",
     "output_type": "stream",
     "text": [
      "application/x-tar\n",
      "splunk-ta-for-suricata_233.tgz File already exist. Skipping\n"
     ]
    },
    {
     "name": "stderr",
     "output_type": "stream",
     "text": [
      "\r",
      " 41%|████      | 11/27 [00:33<00:47,  3.00s/it]"
     ]
    },
    {
     "name": "stdout",
     "output_type": "stream",
     "text": [
      "application/x-tar\n",
      "add-on-for-microsoft-sysmon_810.tgz File already exist. Skipping\n"
     ]
    },
    {
     "name": "stderr",
     "output_type": "stream",
     "text": [
      "\r",
      " 44%|████▍     | 12/27 [00:36<00:43,  2.88s/it]"
     ]
    },
    {
     "name": "stdout",
     "output_type": "stream",
     "text": [
      "application/x-tar\n",
      "splunk-app-for-osquery_10.tgz File already exist. Skipping\n"
     ]
    },
    {
     "name": "stderr",
     "output_type": "stream",
     "text": [
      "\r",
      " 48%|████▊     | 13/27 [00:38<00:37,  2.71s/it]"
     ]
    },
    {
     "name": "stdout",
     "output_type": "stream",
     "text": [
      "application/x-tar\n",
      "ssl-certificate-checker_32.tgz File already exist. Skipping\n"
     ]
    },
    {
     "name": "stderr",
     "output_type": "stream",
     "text": [
      "\r",
      " 52%|█████▏    | 14/27 [00:43<00:43,  3.33s/it]"
     ]
    },
    {
     "name": "stdout",
     "output_type": "stream",
     "text": [
      "application/x-tar\n",
      "website-monitoring_274.tgz File already exist. Skipping\n"
     ]
    },
    {
     "name": "stderr",
     "output_type": "stream",
     "text": [
      "\r",
      " 56%|█████▌    | 15/27 [00:46<00:37,  3.10s/it]"
     ]
    },
    {
     "name": "stdout",
     "output_type": "stream",
     "text": [
      "application/x-tar\n",
      "splunk-add-on-for-microsoft-iis_101.tgz File already exist. Skipping\n"
     ]
    },
    {
     "name": "stderr",
     "output_type": "stream",
     "text": [
      "\r",
      " 59%|█████▉    | 16/27 [00:49<00:34,  3.09s/it]"
     ]
    },
    {
     "name": "stdout",
     "output_type": "stream",
     "text": [
      "application/x-tar\n",
      "splunk-add-on-for-unix-and-linux_602.tgz File already exist. Skipping\n"
     ]
    },
    {
     "name": "stderr",
     "output_type": "stream",
     "text": [
      "\r",
      " 63%|██████▎   | 17/27 [00:52<00:30,  3.03s/it]"
     ]
    },
    {
     "name": "stdout",
     "output_type": "stream",
     "text": [
      "application/x-tar\n",
      "splunk-add-on-for-microsoft-windows_600.tgz File already exist. Skipping\n"
     ]
    },
    {
     "name": "stderr",
     "output_type": "stream",
     "text": [
      "\r",
      " 67%|██████▋   | 18/27 [00:54<00:26,  2.92s/it]"
     ]
    },
    {
     "name": "stdout",
     "output_type": "stream",
     "text": [
      "application/x-tar\n",
      "splunk-add-on-for-microsoft-cloud-services_310.tgz File already exist. Skipping\n"
     ]
    },
    {
     "name": "stderr",
     "output_type": "stream",
     "text": [
      "\r",
      " 70%|███████   | 19/27 [00:57<00:23,  2.96s/it]"
     ]
    },
    {
     "name": "stdout",
     "output_type": "stream",
     "text": [
      "application/x-tar\n",
      "splunk-stream_713.tgz File already exist. Skipping\n"
     ]
    },
    {
     "name": "stderr",
     "output_type": "stream",
     "text": [
      "\r",
      " 74%|███████▍  | 20/27 [01:00<00:19,  2.79s/it]"
     ]
    },
    {
     "name": "stdout",
     "output_type": "stream",
     "text": [
      "application/x-tar\n",
      "json-tools_013.tgz File already exist. Skipping\n"
     ]
    },
    {
     "name": "stderr",
     "output_type": "stream",
     "text": [
      "\r",
      " 78%|███████▊  | 21/27 [01:05<00:20,  3.45s/it]"
     ]
    },
    {
     "name": "stdout",
     "output_type": "stream",
     "text": [
      "application/x-tar\n",
      "splunk-es-content-update_1040.tgz File already exist. Skipping\n"
     ]
    },
    {
     "name": "stderr",
     "output_type": "stream",
     "text": [
      "\r",
      " 81%|████████▏ | 22/27 [01:10<00:19,  3.90s/it]"
     ]
    },
    {
     "name": "stdout",
     "output_type": "stream",
     "text": [
      "application/x-tar\n",
      "threathunting_134.tgz File already exist. Skipping\n"
     ]
    },
    {
     "name": "stderr",
     "output_type": "stream",
     "text": [
      "\r",
      " 85%|████████▌ | 23/27 [01:13<00:14,  3.70s/it]"
     ]
    },
    {
     "name": "stdout",
     "output_type": "stream",
     "text": [
      "application/x-tar\n",
      "add-on-for-microsoft-sysmon_810.tgz File already exist. Skipping\n"
     ]
    },
    {
     "name": "stderr",
     "output_type": "stream",
     "text": [
      "\r",
      " 89%|████████▉ | 24/27 [01:15<00:09,  3.32s/it]"
     ]
    },
    {
     "name": "stdout",
     "output_type": "stream",
     "text": [
      "application/x-tar\n",
      "punchcard-custom-visualization_130.tgz File already exist. Skipping\n"
     ]
    },
    {
     "name": "stderr",
     "output_type": "stream",
     "text": [
      "\r",
      " 93%|█████████▎| 25/27 [01:19<00:06,  3.47s/it]"
     ]
    },
    {
     "name": "stdout",
     "output_type": "stream",
     "text": [
      "application/x-tar\n",
      "force-directed-app-for-splunk_301.tgz File already exist. Skipping\n"
     ]
    },
    {
     "name": "stderr",
     "output_type": "stream",
     "text": [
      "\r",
      " 96%|█████████▋| 26/27 [01:22<00:03,  3.24s/it]"
     ]
    },
    {
     "name": "stdout",
     "output_type": "stream",
     "text": [
      "application/x-tar\n",
      "sankey-diagram-custom-visualization_130.tgz File already exist. Skipping\n"
     ]
    },
    {
     "name": "stderr",
     "output_type": "stream",
     "text": [
      "\r",
      "100%|██████████| 27/27 [01:26<00:00,  3.68s/it]"
     ]
    },
    {
     "name": "stdout",
     "output_type": "stream",
     "text": [
      "application/x-tar\n",
      "lookup-file-editor_332.tgz File already exist. Skipping\n"
     ]
    },
    {
     "name": "stderr",
     "output_type": "stream",
     "text": [
      "\n"
     ]
    }
   ],
   "source": [
    "#Setup apps \n",
    "#Remeber to have cookies.txt in pwd \n",
    "\n",
    "appids=[3749, 1922, 2734, 3435, 3626, 1621, 3186, 2757, 2772, 2760, 1914, 3278, 3172, 1493, 3185, 833, 742, 3110, 1809,3540,3449,4305,1914,3129,3767,3112,1724]\n",
    "apps=download_splunk_apps(appids)"
   ]
  },
  {
   "cell_type": "code",
   "execution_count": 80,
   "metadata": {},
   "outputs": [],
   "source": [
    "#Checkpoint \n",
    "#Makes it possible to skip downloading every time\n",
    "pickle.dump(apps,open(\"apps.pickle\",\"wb\"))"
   ]
  },
  {
   "cell_type": "markdown",
   "metadata": {},
   "source": [
    "## Install apps"
   ]
  },
  {
   "cell_type": "markdown",
   "metadata": {},
   "source": [
    "Now that both default apps and splunkbase apps are downloaded we can extract them to a common folder and run install scripts."
   ]
  },
  {
   "cell_type": "code",
   "execution_count": 81,
   "metadata": {},
   "outputs": [
    {
     "name": "stdout",
     "output_type": "stream",
     "text": [
      "/home/ole/splunk\n"
     ]
    }
   ],
   "source": [
    "#Load from checkpoint\n",
    "%cd ~/splunk/\n",
    "apps=pickle.load(open(\"download/apps.pickle\",\"rb\"))"
   ]
  },
  {
   "cell_type": "code",
   "execution_count": 82,
   "metadata": {},
   "outputs": [],
   "source": [
    "#Copy default apps\n",
    "!mkdir apps\n",
    "!sudo cp -r apps_splunk_default/* apps/"
   ]
  },
  {
   "cell_type": "code",
   "execution_count": 83,
   "metadata": {},
   "outputs": [
    {
     "name": "stdout",
     "output_type": "stream",
     "text": [
      "sa-investigator-for-enterprise-security_200.tgz\n",
      "base64_11.tgz\n",
      "url-toolbox_16.tgz\n",
      "splunk-security-essentials_242.tgz\n",
      "jellyfisher_010.tgz\n",
      "splunk-common-information-model-cim_4130.tgz\n",
      "splunk-add-on-for-apache-web-server_100.tgz\n",
      "palo-alto-networks-add-on-for-splunk_611.tgz\n",
      "splunk-add-on-for-symantec-endpoint-protection_230.tgz\n",
      "splunk-ta-for-suricata_233.tgz\n",
      "add-on-for-microsoft-sysmon_810.tgz\n",
      "splunk-app-for-osquery_10.tgz\n",
      "ssl-certificate-checker_32.tgz\n",
      "website-monitoring_274.tgz\n",
      "splunk-add-on-for-microsoft-iis_101.tgz\n",
      "splunk-add-on-for-unix-and-linux_602.tgz\n",
      "splunk-add-on-for-microsoft-windows_600.tgz\n",
      "splunk-add-on-for-microsoft-cloud-services_310.tgz\n",
      "splunk-stream_713.tgz\n",
      "json-tools_013.tgz\n",
      "splunk-es-content-update_1040.tgz\n",
      "threathunting_134.tgz\n",
      "add-on-for-microsoft-sysmon_810.tgz\n",
      "punchcard-custom-visualization_130.tgz\n",
      "force-directed-app-for-splunk_301.tgz\n",
      "sankey-diagram-custom-visualization_130.tgz\n",
      "lookup-file-editor_332.tgz\n"
     ]
    }
   ],
   "source": [
    "# Install splunkbase apps\n",
    "for app in apps:\n",
    "    print(app.filename)\n",
    "    !sudo tar -zxf download/$app.filename -C apps/"
   ]
  },
  {
   "cell_type": "code",
   "execution_count": 84,
   "metadata": {},
   "outputs": [],
   "source": [
    "#Download lookup files for threat hunting app\n",
    "if not os.path.isfile(\"ThreatHunting.tar.gz\"):\n",
    "    !curl -L https://github.com/olafhartong/ThreatHunting/raw/master/files/ThreatHunting.tar.gz --output ThreatHunting.tar.gz"
   ]
  },
  {
   "cell_type": "code",
   "execution_count": 85,
   "metadata": {},
   "outputs": [],
   "source": [
    "!sudo tar -zxf ThreatHunting.tar.gz -C apps/"
   ]
  },
  {
   "cell_type": "code",
   "execution_count": 86,
   "metadata": {},
   "outputs": [],
   "source": [
    "#Download botsv2 dataset\n",
    "#https://github.com/splunk/botsv2\n",
    "if not os.path.isfile(\"botsv2_data_set_attack_only.tgz\"):\n",
    "    !curl -O https://s3.amazonaws.com/botsdataset/botsv2/botsv2_data_set_attack_only.tgz"
   ]
  },
  {
   "cell_type": "code",
   "execution_count": 87,
   "metadata": {},
   "outputs": [],
   "source": [
    "!sudo tar -zxf botsv2_data_set_attack_only.tgz  -C apps/"
   ]
  },
  {
   "cell_type": "markdown",
   "metadata": {},
   "source": [
    "## Start splunk docker with shared folder"
   ]
  },
  {
   "cell_type": "code",
   "execution_count": 88,
   "metadata": {},
   "outputs": [],
   "source": [
    "splunkapps=%pwd \n",
    "splunkapps+= \"/apps\""
   ]
  },
  {
   "cell_type": "code",
   "execution_count": 89,
   "metadata": {},
   "outputs": [
    {
     "name": "stdout",
     "output_type": "stream",
     "text": [
      "\n",
      "PLAY [Run default Splunk provisioning] *****************************************\n",
      "Wednesday 03 July 2019  12:22:50 +0000 (0:00:00.020)       0:00:00.020 ******** \n",
      "\n",
      "TASK [Gathering Facts] *********************************************************\n",
      "\u001b[0;32mok: [localhost]\u001b[0m\n",
      "Wednesday 03 July 2019  12:22:51 +0000 (0:00:01.344)       0:00:01.365 ******** \n",
      "Wednesday 03 July 2019  12:22:52 +0000 (0:00:00.038)       0:00:01.404 ******** \n",
      "Wednesday 03 July 2019  12:22:52 +0000 (0:00:00.036)       0:00:01.440 ******** \n",
      "Wednesday 03 July 2019  12:22:52 +0000 (0:00:00.102)       0:00:01.542 ******** \n",
      "\u001b[0;36mincluded: /opt/ansible/roles/splunk_common/tasks/get_facts.yml for localhost\u001b[0m\n",
      "Wednesday 03 July 2019  12:22:52 +0000 (0:00:00.072)       0:00:01.615 ******** \n",
      "\n",
      "TASK [splunk_common : Set privilege escalation user] ***************************\n",
      "\u001b[0;32mok: [localhost]\u001b[0m\n",
      "Wednesday 03 July 2019  12:22:52 +0000 (0:00:00.037)       0:00:01.652 ******** \n",
      "\n",
      "TASK [splunk_common : Check for existing installation] *************************\n",
      "\u001b[0;32mok: [localhost]\u001b[0m\n",
      "Wednesday 03 July 2019  12:22:52 +0000 (0:00:00.403)       0:00:02.056 ******** \n",
      "\n",
      "TASK [splunk_common : Set splunk install fact] *********************************\n",
      "\u001b[0;32mok: [localhost]\u001b[0m\n",
      "Wednesday 03 July 2019  12:22:52 +0000 (0:00:00.037)       0:00:02.093 ******** \n",
      "\n",
      "TASK [splunk_common : Check for existing splunk secret] ************************\n",
      "\u001b[0;32mok: [localhost]\u001b[0m\n",
      "Wednesday 03 July 2019  12:22:52 +0000 (0:00:00.090)       0:00:02.184 ******** \n",
      "\n",
      "TASK [splunk_common : Set first run fact] **************************************\n",
      "\u001b[0;32mok: [localhost]\u001b[0m\n",
      "Wednesday 03 July 2019  12:22:52 +0000 (0:00:00.039)       0:00:02.223 ******** \n",
      "\n",
      "TASK [splunk_common : Check if we are in a docker] *****************************\n",
      "\u001b[0;32mok: [localhost]\u001b[0m\n",
      "Wednesday 03 July 2019  12:22:53 +0000 (0:00:00.287)       0:00:02.510 ******** \n",
      "\n",
      "TASK [splunk_common : Set docker fact] *****************************************\n",
      "\u001b[0;32mok: [localhost]\u001b[0m\n",
      "Wednesday 03 July 2019  12:22:53 +0000 (0:00:00.037)       0:00:02.548 ******** \n",
      "Wednesday 03 July 2019  12:22:53 +0000 (0:00:00.035)       0:00:02.583 ******** \n",
      "\n",
      "TASK [splunk_common : Find manifests] ******************************************\n",
      "\u001b[0;32mok: [localhost]\u001b[0m\n",
      "Wednesday 03 July 2019  12:22:53 +0000 (0:00:00.220)       0:00:02.804 ******** \n",
      "\n",
      "TASK [splunk_common : Set current version fact] ********************************\n",
      "\u001b[0;32mok: [localhost]\u001b[0m\n",
      "Wednesday 03 July 2019  12:22:53 +0000 (0:00:00.040)       0:00:02.844 ******** \n",
      "\n",
      "TASK [splunk_common : Setting upgrade fact] ************************************\n",
      "\u001b[0;32mok: [localhost]\u001b[0m\n",
      "Wednesday 03 July 2019  12:22:53 +0000 (0:00:00.038)       0:00:02.883 ******** \n",
      "\u001b[0;36mincluded: /opt/ansible/roles/splunk_common/tasks/change_splunk_directory_owner.yml for localhost\u001b[0m\n",
      "Wednesday 03 July 2019  12:22:53 +0000 (0:00:00.078)       0:00:02.961 ******** \n",
      "\n",
      "TASK [splunk_common : Update Splunk directory owner] ***************************\n",
      "\u001b[0;33mchanged: [localhost]\u001b[0m\n",
      "Wednesday 03 July 2019  12:22:54 +0000 (0:00:01.147)       0:00:04.108 ******** \n",
      "\u001b[0;36mincluded: /opt/ansible/roles/splunk_common/tasks/update_etc.yml for localhost\u001b[0m\n",
      "Wednesday 03 July 2019  12:22:54 +0000 (0:00:00.074)       0:00:04.183 ******** \n",
      "\n",
      "TASK [splunk_common : Check if /sbin/updateetc.sh exists] **********************\n",
      "\u001b[0;32mok: [localhost]\u001b[0m\n",
      "Wednesday 03 July 2019  12:22:55 +0000 (0:00:00.283)       0:00:04.466 ******** \n",
      "\n",
      "TASK [splunk_common : Update /opt/splunk/etc] **********************************\n",
      "\u001b[0;33mchanged: [localhost]\u001b[0m\n",
      "Wednesday 03 July 2019  12:22:55 +0000 (0:00:00.504)       0:00:04.971 ******** \n",
      "Wednesday 03 July 2019  12:22:55 +0000 (0:00:00.035)       0:00:05.007 ******** \n",
      "Wednesday 03 July 2019  12:22:55 +0000 (0:00:00.035)       0:00:05.043 ******** \n",
      "Wednesday 03 July 2019  12:22:55 +0000 (0:00:00.036)       0:00:05.080 ******** \n",
      "\u001b[0;36mincluded: /opt/ansible/roles/splunk_common/tasks/remove_first_login.yml for localhost\u001b[0m\n",
      "Wednesday 03 July 2019  12:22:55 +0000 (0:00:00.076)       0:00:05.156 ******** \n",
      "\n",
      "TASK [splunk_common : Create .ui_login] ****************************************\n",
      "\u001b[0;33mchanged: [localhost]\u001b[0m\n",
      "Wednesday 03 July 2019  12:22:56 +0000 (0:00:00.283)       0:00:05.439 ******** \n",
      "Wednesday 03 July 2019  12:22:56 +0000 (0:00:00.035)       0:00:05.475 ******** \n",
      "\u001b[0;36mincluded: /opt/ansible/roles/splunk_common/tasks/set_splunk_secret.yml for localhost\u001b[0m\n",
      "Wednesday 03 July 2019  12:22:56 +0000 (0:00:00.077)       0:00:05.553 ******** \n",
      "Wednesday 03 July 2019  12:22:56 +0000 (0:00:00.037)       0:00:05.591 ******** \n",
      "\u001b[0;36mincluded: /opt/ansible/roles/splunk_common/tasks/set_user_seed.yml for localhost\u001b[0m\n",
      "Wednesday 03 July 2019  12:22:56 +0000 (0:00:00.081)       0:00:05.672 ******** \n",
      "\n",
      "TASK [splunk_common : Hash the password] ***************************************\n",
      "\u001b[0;33mchanged: [localhost]\u001b[0m\n",
      "Wednesday 03 July 2019  12:22:56 +0000 (0:00:00.330)       0:00:06.002 ******** \n",
      "\n",
      "TASK [splunk_common : Generate user-seed.conf] *********************************\n",
      "\u001b[0;33mchanged: [localhost] => (item=USERNAME)\u001b[0m\n",
      "\u001b[0;33mchanged: [localhost] => (item=HASHED_PASSWORD)\u001b[0m\n",
      "Wednesday 03 July 2019  12:22:56 +0000 (0:00:00.272)       0:00:06.275 ******** \n",
      "\u001b[0;36mincluded: /opt/ansible/roles/splunk_common/tasks/pre_splunk_start_commands.yml for localhost\u001b[0m\n",
      "Wednesday 03 July 2019  12:22:56 +0000 (0:00:00.111)       0:00:06.386 ******** \n",
      "Wednesday 03 July 2019  12:22:57 +0000 (0:00:00.037)       0:00:06.424 ******** \n",
      "\u001b[0;36mincluded: /opt/ansible/roles/splunk_common/tasks/enable_s2s_port.yml for localhost\u001b[0m\n",
      "Wednesday 03 July 2019  12:22:57 +0000 (0:00:00.084)       0:00:06.508 ******** \n",
      "\n",
      "TASK [splunk_common : Enable the Splunk-to-Splunk port] ************************\n",
      "\u001b[0;32mok: [localhost]\u001b[0m\n",
      "Wednesday 03 July 2019  12:23:08 +0000 (0:00:11.641)       0:00:18.150 ******** \n",
      "Wednesday 03 July 2019  12:23:08 +0000 (0:00:00.037)       0:00:18.188 ******** \n",
      "Wednesday 03 July 2019  12:23:08 +0000 (0:00:00.037)       0:00:18.225 ******** \n",
      "Wednesday 03 July 2019  12:23:08 +0000 (0:00:00.041)       0:00:18.267 ******** \n",
      "Wednesday 03 July 2019  12:23:08 +0000 (0:00:00.035)       0:00:18.302 ******** \n",
      "\u001b[0;36mincluded: /opt/ansible/roles/splunk_common/tasks/start_splunk.yml for localhost\u001b[0m\n",
      "Wednesday 03 July 2019  12:23:08 +0000 (0:00:00.080)       0:00:18.383 ******** \n",
      "\n",
      "TASK [splunk_common : Start Splunk via cli] ************************************\n",
      "\u001b[0;33mchanged: [localhost]\u001b[0m\n",
      "Wednesday 03 July 2019  12:23:43 +0000 (0:00:34.417)       0:00:52.800 ******** \n",
      "Wednesday 03 July 2019  12:23:43 +0000 (0:00:00.036)       0:00:52.836 ******** \n",
      "Wednesday 03 July 2019  12:23:43 +0000 (0:00:00.035)       0:00:52.872 ******** \n",
      "\n",
      "TASK [splunk_common : Wait for port 8089 to become open] ***********************\n",
      "\u001b[0;32mok: [localhost]\u001b[0m\n",
      "Wednesday 03 July 2019  12:23:43 +0000 (0:00:00.195)       0:00:53.068 ******** \n",
      "\u001b[0;36mincluded: /opt/ansible/roles/splunk_common/tasks/set_certificate_prefix.yml for localhost\u001b[0m\n",
      "Wednesday 03 July 2019  12:23:43 +0000 (0:00:00.082)       0:00:53.150 ******** \n",
      "\n",
      "TASK [splunk_common : Test basic https endpoint] *******************************\n",
      "\u001b[0;32mok: [localhost]\u001b[0m\n",
      "Wednesday 03 July 2019  12:23:44 +0000 (0:00:00.461)       0:00:53.612 ******** \n",
      "\n",
      "TASK [splunk_common : Set url prefix for future REST calls] ********************\n",
      "\u001b[0;32mok: [localhost]\u001b[0m\n",
      "Wednesday 03 July 2019  12:23:44 +0000 (0:00:00.038)       0:00:53.651 ******** \n",
      "Wednesday 03 July 2019  12:23:44 +0000 (0:00:00.038)       0:00:53.690 ******** \n",
      "\u001b[0;36mincluded: /opt/ansible/roles/splunk_common/tasks/clean_user_seed.yml for localhost\u001b[0m\n",
      "Wednesday 03 July 2019  12:23:44 +0000 (0:00:00.088)       0:00:53.778 ******** \n",
      "\n",
      "TASK [splunk_common : Remove user-seed.conf] ***********************************\n",
      "\u001b[0;32mok: [localhost]\u001b[0m\n",
      "Wednesday 03 July 2019  12:23:44 +0000 (0:00:00.101)       0:00:53.879 ******** \n",
      "\u001b[0;36mincluded: /opt/ansible/roles/splunk_common/tasks/add_splunk_license.yml for localhost\u001b[0m\n",
      "Wednesday 03 July 2019  12:23:44 +0000 (0:00:00.092)       0:00:53.972 ******** \n",
      "Wednesday 03 July 2019  12:23:44 +0000 (0:00:00.040)       0:00:54.013 ******** \n",
      "\n",
      "TASK [splunk_common : Apply Splunk license] ************************************\n",
      "\u001b[0;31mfatal: [localhost]: FAILED! => {\"msg\": \"No file was found when using first_found. Use the 'skip: true' option to allow this task to be skipped if no files are found\"}\u001b[0m\n",
      "\u001b[0;36m...ignoring\u001b[0m\n"
     ]
    },
    {
     "name": "stdout",
     "output_type": "stream",
     "text": [
      "Wednesday 03 July 2019  12:23:44 +0000 (0:00:00.036)       0:00:54.050 ******** \n",
      "Wednesday 03 July 2019  12:23:44 +0000 (0:00:00.033)       0:00:54.083 ******** \n",
      "Wednesday 03 July 2019  12:23:44 +0000 (0:00:00.036)       0:00:54.120 ******** \n",
      "Wednesday 03 July 2019  12:23:44 +0000 (0:00:00.043)       0:00:54.163 ******** \n",
      "Wednesday 03 July 2019  12:23:44 +0000 (0:00:00.036)       0:00:54.199 ******** \n",
      "Wednesday 03 July 2019  12:23:44 +0000 (0:00:00.042)       0:00:54.242 ******** \n",
      "Wednesday 03 July 2019  12:23:44 +0000 (0:00:00.038)       0:00:54.280 ******** \n",
      "\u001b[0;36mincluded: /opt/ansible/roles/splunk_standalone/tasks/../../splunk_common/tasks/check_for_required_restarts.yml for localhost\u001b[0m\n",
      "Wednesday 03 July 2019  12:23:44 +0000 (0:00:00.065)       0:00:54.346 ******** \n",
      "\n",
      "TASK [splunk_standalone : Check for required restarts] *************************\n",
      "\u001b[0;32mok: [localhost]\u001b[0m\n",
      "Wednesday 03 July 2019  12:23:45 +0000 (0:00:00.156)       0:00:54.502 ******** \n",
      "\n",
      "PLAY RECAP *********************************************************************\n",
      "\u001b[0;33mlocalhost\u001b[0m                  : \u001b[0;32mok=38  \u001b[0m \u001b[0;33mchanged=6   \u001b[0m unreachable=0    failed=0    \u001b[0;36mskipped=24  \u001b[0m rescued=0    \u001b[1;35mignored=1   \u001b[0m\n",
      "\n",
      "Wednesday 03 July 2019  12:23:45 +0000 (0:00:00.013)       0:00:54.515 ******** \n",
      "=============================================================================== \n",
      "splunk_common : Start Splunk via cli ----------------------------------- 34.42s\n",
      "splunk_common : Enable the Splunk-to-Splunk port ----------------------- 11.64s\n",
      "Gathering Facts --------------------------------------------------------- 1.34s\n",
      "splunk_common : Update Splunk directory owner --------------------------- 1.15s\n",
      "splunk_common : Update /opt/splunk/etc ---------------------------------- 0.50s\n",
      "splunk_common : Test basic https endpoint ------------------------------- 0.46s\n",
      "splunk_common : Check for existing installation ------------------------- 0.40s\n",
      "splunk_common : Hash the password --------------------------------------- 0.33s\n",
      "splunk_common : Check if we are in a docker ----------------------------- 0.29s\n",
      "splunk_common : Check if /sbin/updateetc.sh exists ---------------------- 0.28s\n",
      "splunk_common : Create .ui_login ---------------------------------------- 0.28s\n",
      "splunk_common : Generate user-seed.conf --------------------------------- 0.27s\n",
      "splunk_common : Find manifests ------------------------------------------ 0.22s\n",
      "splunk_common : Wait for port 8089 to become open ----------------------- 0.20s\n",
      "splunk_standalone : Check for required restarts ------------------------- 0.16s\n",
      "splunk_common : include_tasks ------------------------------------------- 0.11s\n",
      "Provision role ---------------------------------------------------------- 0.10s\n",
      "splunk_common : Remove user-seed.conf ----------------------------------- 0.10s\n",
      "splunk_common : include_tasks ------------------------------------------- 0.09s\n",
      "splunk_common : Check for existing splunk secret ------------------------ 0.09s\n",
      "===============================================================================\n",
      "\n",
      "Ansible playbook complete, will begin streaming var/log/splunk/splunkd_stderr.log\n",
      "\n",
      "^C\n"
     ]
    }
   ],
   "source": [
    "!sudo docker run -v $splunkapps:/opt/splunk/etc/apps --network soc1 --name soc1 --hostname soc1 -p 8000:8000 -p 8089:8089 -p 8070:8070 -e \"SPLUNK_PASSWORD=changeme\" -e \"SPLUNK_START_ARGS=--accept-license\" -t splunk/splunk:latest"
   ]
  },
  {
   "cell_type": "code",
   "execution_count": 90,
   "metadata": {},
   "outputs": [
    {
     "data": {
      "text/plain": [
       "'ab2f4667fdfe'"
      ]
     },
     "execution_count": 90,
     "metadata": {},
     "output_type": "execute_result"
    }
   ],
   "source": [
    "dockerid=!sudo docker ps -aqf \"name=soc1\"\n",
    "dockerid=dockerid[0]\n",
    "dockerid"
   ]
  }
 ],
 "metadata": {
  "kernelspec": {
   "display_name": "Python 3",
   "language": "python",
   "name": "python3"
  },
  "language_info": {
   "codemirror_mode": {
    "name": "ipython",
    "version": 3
   },
   "file_extension": ".py",
   "mimetype": "text/x-python",
   "name": "python",
   "nbconvert_exporter": "python",
   "pygments_lexer": "ipython3",
   "version": "3.6.8"
  }
 },
 "nbformat": 4,
 "nbformat_minor": 2
}
